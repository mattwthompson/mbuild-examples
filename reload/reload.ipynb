{
 "cells": [
  {
   "cell_type": "code",
   "execution_count": null,
   "metadata": {},
   "outputs": [],
   "source": [
    "\"\"\"A quick test for updating a Compound and traversing its hierarchy. \"\"\"\n",
    "from numpy import pi\n",
    "\n",
    "import mbuild as mb\n",
    "import sys\n",
    "sys.path.append('..')\n",
    "sys.path.append('../pmpc/')\n",
    "from pmpc.brush import Brush\n",
    "\n",
    "   \n",
    "# Create a compound and write it to file.\n",
    "brush1 = Brush()\n",
    "brush1.save(\"brush1.pdb\", overwrite=True)\n",
    "\n",
    "# Create another compound, rotate it and write it to file.\n",
    "brush2 = Brush()\n",
    "mb.rotate_around_z(brush2, pi/2)\n",
    "brush2.save(\"brush2.pdb\", overwrite=True)\n",
    "\n",
    "# Load brush2.pdb into brush1, modifying the atom positions of brush1.\n",
    "brush1.update_coordinates(\"brush2.pdb\")\n",
    "brush1.save(\"modified_brush1.pdb\", overwrite=True)\n",
    "\n",
    "# Access the internals of the updated brush1.\n",
    "print(brush1['pmpc'])\n",
    "\n",
    "for mpc in brush1['pmpc']['monomer']:\n",
    "    print(mpc)"
   ]
  }
 ],
 "metadata": {
  "kernelspec": {
   "display_name": "Python 3",
   "language": "python",
   "name": "python3"
  },
  "language_info": {
   "codemirror_mode": {
    "name": "ipython",
    "version": 3
   },
   "file_extension": ".py",
   "mimetype": "text/x-python",
   "name": "python",
   "nbconvert_exporter": "python",
   "pygments_lexer": "ipython3",
   "version": "3.7.3"
  }
 },
 "nbformat": 4,
 "nbformat_minor": 1
}
