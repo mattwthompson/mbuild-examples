{
 "cells": [
  {
   "cell_type": "code",
   "execution_count": null,
   "metadata": {},
   "outputs": [],
   "source": [
    "import mbuild as mb\n",
    "from mbuild import clone\n",
    "\n",
    "\n",
    "class MonoLJ(mb.Compound):\n",
    "    def __init__(self):\n",
    "        super(MonoLJ, self).__init__()\n",
    "        lj_proto = mb.Particle(name='LJ', pos=[0, 0, 0])\n",
    "        \n",
    "        pattern = mb.Grid3DPattern(5, 5, 5)\n",
    "        pattern.scale(5)\n",
    "        \n",
    "        for pos in pattern:\n",
    "            lj_particle = clone(lj_proto)\n",
    "            mb.translate(lj_particle, pos)\n",
    "            self.add(lj_particle)"
   ]
  },
  {
   "cell_type": "code",
   "execution_count": null,
   "metadata": {
    "jupyter": {
     "outputs_hidden": false
    }
   },
   "outputs": [],
   "source": [
    "monolj = MonoLJ()\n",
    "print(monolj)\n",
    "monolj.visualize()"
   ]
  }
 ],
 "metadata": {
  "kernelspec": {
   "display_name": "Python 3",
   "language": "python",
   "name": "python3"
  },
  "language_info": {
   "codemirror_mode": {
    "name": "ipython",
    "version": 3
   },
   "file_extension": ".py",
   "mimetype": "text/x-python",
   "name": "python",
   "nbconvert_exporter": "python",
   "pygments_lexer": "ipython3",
   "version": "3.7.3"
  }
 },
 "nbformat": 4,
 "nbformat_minor": 4
}
