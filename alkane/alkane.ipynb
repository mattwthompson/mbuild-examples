{
 "cells": [
  {
   "cell_type": "code",
   "execution_count": null,
   "metadata": {},
   "outputs": [],
   "source": [
    "import mbuild as mb\n",
    "\n",
    "from mbuild.lib.moieties import CH2\n",
    "from mbuild.lib.moieties import CH3\n",
    "\n",
    "\n",
    "class Alkane(mb.Compound):\n",
    "    \"\"\"An alkane which may optionally end with a hydrogen or a Port.\"\"\"\n",
    "    def __init__(self, n=3, cap_front=True, cap_end=True):\n",
    "        \"\"\"Initialize an Alkane Compound.\n",
    "\n",
    "        Args:\n",
    "            n: Number of carbon atoms.\n",
    "            cap_front: Add methyl group to beginning of chain ('down' port).\n",
    "            cap_end: Add methyl group to end of chain ('up' port).\n",
    "        \"\"\"\n",
    "        if n < 2:\n",
    "            raise ValueError('n must be 1 or more')\n",
    "        super(Alkane, self).__init__()\n",
    "\n",
    "        # Adjust length of Polmyer for absence of methyl terminations.\n",
    "        if not cap_front:\n",
    "            n += 1\n",
    "        if not cap_end:\n",
    "            n += 1\n",
    "        chain = mb.lib.recipes.polymer.Polymer(CH2(), n=n-2, port_labels=('up', 'down'))\n",
    "        self.add(chain, 'chain')\n",
    "\n",
    "        if cap_front:\n",
    "            self.add(CH3(), \"methyl_front\")\n",
    "            mb.force_overlap(move_this=self['chain'],\n",
    "                             from_positions=self['chain']['up'],\n",
    "                             to_positions=self['methyl_front']['up'])\n",
    "        else:\n",
    "            # Hoist port label to Alkane level.\n",
    "            self.add(chain['up'], 'up', containment=False)\n",
    "\n",
    "        if cap_end:\n",
    "            self.add(CH3(), 'methyl_end')\n",
    "            mb.force_overlap(self['methyl_end'], self['methyl_end']['up'], self['chain']['down'])\n",
    "        else:\n",
    "            # Hoist port label to Alkane level.\n",
    "            self.add(chain['down'], 'down', containment=False)"
   ]
  },
  {
   "cell_type": "code",
   "execution_count": null,
   "metadata": {
    "jupyter": {
     "outputs_hidden": false
    }
   },
   "outputs": [],
   "source": [
    "n=5\n",
    "alkane = Alkane(n=n, cap_front=True, cap_end=True)\n",
    "print(alkane)\n",
    "alkane.visualize()"
   ]
  }
 ],
 "metadata": {
  "kernelspec": {
   "display_name": "Python 3",
   "language": "python",
   "name": "python3"
  },
  "language_info": {
   "codemirror_mode": {
    "name": "ipython",
    "version": 3
   },
   "file_extension": ".py",
   "mimetype": "text/x-python",
   "name": "python",
   "nbconvert_exporter": "python",
   "pygments_lexer": "ipython3",
   "version": "3.7.3"
  },
  "widgets": {
   "state": {
    "6d7dc1e5ef1b4c1386999ce67bc67763": {
     "views": [
      {
       "cell_index": 2
      }
     ]
    },
    "b1153236129b4ec8b1060dc51d31a60c": {
     "views": [
      {
       "cell_index": 2
      }
     ]
    }
   },
   "version": "1.2.0"
  }
 },
 "nbformat": 4,
 "nbformat_minor": 4
}
