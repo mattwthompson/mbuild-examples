{
 "cells": [
  {
   "cell_type": "code",
   "execution_count": null,
   "metadata": {},
   "outputs": [],
   "source": [
    "import mbuild as mb\n",
    "\n",
    "from mbuild.lib.surfaces import Betacristobalite\n",
    "from mbuild.lib.atoms import H\n",
    "from alkylsilane import AlkylSilane\n",
    "\n",
    "\n",
    "class AlkaneMonolayer(mb.lib.recipes.Monolayer):\n",
    "    \"\"\"An akylsilane monolayer on beta-cristobalite. \"\"\"\n",
    "\n",
    "    def __init__(self, pattern, tile_x=1, tile_y=1, chain_length=10):\n",
    "        \"\"\"Create an alkylsilane monolayer on beta-cristobalite.\n",
    "\n",
    "        Parameters\n",
    "        ----------\n",
    "        pattern : np.ndarray, shape=(n, 3), optional, default=None\n",
    "            An array of planar binding locations. If not provided, the entire\n",
    "            surface will be filled with `chain`.\n",
    "        tile_x : int, optional, default=1\n",
    "            Number of times to replicate substrate in x-direction.\n",
    "        tile_y : int, optional, default=1\n",
    "            Number of times to replicate substrate in y-direction.\n",
    "        chain_length : int, optional, default=10\n",
    "            Number of carbon atoms per chain.\n",
    "        \"\"\"\n",
    "        surface = Betacristobalite()\n",
    "        alkylsilane = AlkylSilane(chain_length)\n",
    "        hydrogen = H()\n",
    "        super(AlkaneMonolayer, self).__init__(surface, alkylsilane, backfill=hydrogen,\n",
    "                                              pattern=pattern, tile_x=tile_x,\n",
    "                                              tile_y=tile_y)"
   ]
  },
  {
   "cell_type": "code",
   "execution_count": null,
   "metadata": {},
   "outputs": [],
   "source": [
    "pattern = mb.Grid2DPattern(8, 8)  # Evenly spaced, 2D grid of points.\n",
    "monolayer = AlkaneMonolayer(chain_length=10, pattern=pattern)\n",
    "print(monolayer)\n",
    "monolayer.visualize()"
   ]
  }
 ],
 "metadata": {
  "kernelspec": {
   "display_name": "Python 3",
   "language": "python",
   "name": "python3"
  },
  "language_info": {
   "codemirror_mode": {
    "name": "ipython",
    "version": 3
   },
   "file_extension": ".py",
   "mimetype": "text/x-python",
   "name": "python",
   "nbconvert_exporter": "python",
   "pygments_lexer": "ipython3",
   "version": "3.7.3"
  }
 },
 "nbformat": 4,
 "nbformat_minor": 4
}
