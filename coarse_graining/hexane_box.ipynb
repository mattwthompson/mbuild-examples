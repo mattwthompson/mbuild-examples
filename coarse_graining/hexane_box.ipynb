{
 "cells": [
  {
   "cell_type": "code",
   "execution_count": null,
   "metadata": {
    "jupyter": {
     "outputs_hidden": false
    }
   },
   "outputs": [],
   "source": [
    "import mbuild as mb\n",
    "from mbuild.lib.moieties import CH2, CH3\n",
    "\n",
    "hexane_box = mb.fill_box(mb.recipes.Alkane(6), 50, box=[4, 4, 4])\n",
    "print(hexane_box)\n",
    "hexane_box.visualize()"
   ]
  },
  {
   "cell_type": "code",
   "execution_count": null,
   "metadata": {
    "jupyter": {
     "outputs_hidden": false
    }
   },
   "outputs": [],
   "source": [
    "united_atom_particles = [CH2, CH3]\n",
    "united_atom = mb.coarse_grain(hexane_box, particle_classes=united_atom_particles)\n",
    "print(united_atom)\n",
    "united_atom.visualize()"
   ]
  },
  {
   "cell_type": "code",
   "execution_count": null,
   "metadata": {
    "jupyter": {
     "outputs_hidden": false
    }
   },
   "outputs": [],
   "source": [
    "three_to_one_particles = [mb.recipes.Alkane(3)]\n",
    "three_to_one = mb.coarse_grain(hexane_box, particle_classes=three_to_one_particles)\n",
    "print(three_to_one)\n",
    "three_to_one.visualize()"
   ]
  }
 ],
 "metadata": {
  "kernelspec": {
   "display_name": "Python 3",
   "language": "python",
   "name": "python3"
  },
  "language_info": {
   "codemirror_mode": {
    "name": "ipython",
    "version": 3
   },
   "file_extension": ".py",
   "mimetype": "text/x-python",
   "name": "python",
   "nbconvert_exporter": "python",
   "pygments_lexer": "ipython3",
   "version": "3.7.3"
  }
 },
 "nbformat": 4,
 "nbformat_minor": 4
}
